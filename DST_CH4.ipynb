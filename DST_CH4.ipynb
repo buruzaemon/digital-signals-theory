{
 "cells": [
  {
   "cell_type": "markdown",
   "id": "9ebb61a0-dabc-4993-99de-1be97915fb7b",
   "metadata": {},
   "source": [
    "# Digital Signals Theory"
   ]
  },
  {
   "cell_type": "code",
   "execution_count": 1,
   "id": "1aede3db-6254-4bd0-932f-632fac76a1a2",
   "metadata": {},
   "outputs": [],
   "source": [
    "%matplotlib inline\n",
    "\n",
    "import numpy as np"
   ]
  },
  {
   "cell_type": "markdown",
   "id": "194abde4-54a5-4dea-b71f-db9c3c78d401",
   "metadata": {},
   "source": [
    "## Chapter 4: Complex numbers\n",
    "----"
   ]
  },
  {
   "cell_type": "markdown",
   "id": "2b9eff8e-06a0-4879-ab14-6ef1e8d5ba4f",
   "metadata": {},
   "source": [
    "### 4.6 Exercises"
   ]
  },
  {
   "cell_type": "markdown",
   "id": "8f8123cb-b054-4fb5-a7aa-c1b86b6a65cc",
   "metadata": {},
   "source": [
    "#### Exercise 4.1\n",
    "\n",
    "How many complex numbers $z$ are there such that:"
   ]
  },
  {
   "cell_type": "markdown",
   "id": "5a0a3fde-b80e-4744-b4af-0aa9f632d0fa",
   "metadata": {},
   "source": [
    "\\begin{flalign}\n",
    "\\text{1. } z^2 &= 1 & \\\\\\\\\n",
    "\\text{solutions:} && \\\\\n",
    " z &= 1 & \\\\\n",
    "\\end{flalign}"
   ]
  },
  {
   "cell_type": "markdown",
   "id": "727c8efd-431a-4a47-af20-27065b19c94f",
   "metadata": {},
   "source": [
    "<hr style=\"width:50%;border-top:1px dashed;\"/>"
   ]
  },
  {
   "cell_type": "markdown",
   "id": "89513f33-9600-4e5d-a8fe-8d98c688cd51",
   "metadata": {},
   "source": [
    "\\begin{flalign}\n",
    "\\text{2. } z^2 &= -1 & \\\\\\\\\n",
    "\\text{solutions:} && \\\\\n",
    " z &= j & \\\\\n",
    "\\end{flalign}"
   ]
  },
  {
   "cell_type": "markdown",
   "id": "51cbedba-b37d-409b-a54c-13d1a876db51",
   "metadata": {},
   "source": [
    "<hr style=\"width:50%;border-top:1px dashed;\"/>"
   ]
  },
  {
   "cell_type": "markdown",
   "id": "69e7e62f-2485-49b1-997e-1258c2f1dd84",
   "metadata": {},
   "source": [
    "\\begin{flalign}\n",
    "\\text{3. } z^3 &= 1 & \\\\\n",
    "\\end{flalign}"
   ]
  },
  {
   "cell_type": "markdown",
   "id": "999fd022-3f98-40d7-b4f0-053e8b880779",
   "metadata": {},
   "source": [
    "##### Powers of complex numbers are best handled in polar form\n",
    "\n",
    "From $z^3 = 1$, we know complex number $z$ lies on the unit circle (magnitude $r=1$), and its angle $\\theta$ is such that when multipled by $3$ will end up at $2\\pi$ (or some integer multiple thereof).\n",
    "\n",
    "Thus, there are only 3 solutions, assuming we are moving only in the positive (counter-clockwise) direction.\n",
    "\n",
    "\\begin{flalign}\n",
    "\\text{solutions:} && \\\\\n",
    " z &= \\cos ( \\frac{2\\pi}{3} ) + sin ( \\frac{2\\pi}{3} ) j  & \\\\\n",
    " z &= \\cos ( \\frac{4\\pi}{3} ) + sin ( \\frac{4\\pi}{3} ) j  & \\\\\n",
    "z &= \\cos ( 2\\pi ) + sin ( 2\\pi ) j  = 1 & \\\\\n",
    "\\end{flalign}"
   ]
  },
  {
   "cell_type": "markdown",
   "id": "c484bc7b-5ec4-4c58-a4ef-b402f2367ff1",
   "metadata": {},
   "source": [
    "----"
   ]
  },
  {
   "cell_type": "markdown",
   "id": "bd921c1d-a43b-49fb-b09b-d1808b3b1236",
   "metadata": {},
   "source": [
    "#### Exercise 4.2\n",
    "\n",
    "Compute the sum and product for the following pairs of complex numbers.\n",
    "Use `numpy` to check your work."
   ]
  },
  {
   "cell_type": "markdown",
   "id": "7d0a2045-2409-475b-8d90-4ae452b56289",
   "metadata": {},
   "source": [
    "\\begin{flalign}\n",
    "\\qquad \\text{1.} \\quad z &= j \\text{, } w = \\frac{1}{2} + j &\n",
    "\\\\\\\\ \n",
    "\\qquad z + w &= (0 + \\frac{1}{2}) + (1 + 1)j & \\\\\n",
    "\\qquad &= \\frac{1}{2} + 2j & \\\\\n",
    "\\\\\n",
    "\\qquad z \\cdot w &= \\frac{1}{2} j + j \\cdot j \\\\\n",
    "\\qquad &= -1 + \\frac{1}{2} j & \\\\\n",
    "\\end{flalign}"
   ]
  },
  {
   "cell_type": "code",
   "execution_count": 2,
   "id": "f9525759-8929-490d-81f1-1833a64386fe",
   "metadata": {},
   "outputs": [
    {
     "name": "stdout",
     "output_type": "stream",
     "text": [
      "z = 1j\n",
      "w = (0.5+1j)\n",
      "\n",
      "z + w = (0.5+2j)\n",
      "z * w = (-1+0.5j)\n"
     ]
    }
   ],
   "source": [
    "z = 1j\n",
    "w = 1/2 + 1j\n",
    "\n",
    "print(f\"z = {z}\")\n",
    "print(f\"w = {w}\")\n",
    "print()\n",
    "print(f\"z + w = {z + w}\")\n",
    "print(f\"z * w = {z * w}\")"
   ]
  },
  {
   "cell_type": "markdown",
   "id": "cce4d24e-c30b-4454-84be-46a395ffc0c1",
   "metadata": {},
   "source": [
    "<hr style=\"width:50%;border-top:1px dashed;\"/>"
   ]
  },
  {
   "cell_type": "markdown",
   "id": "58c4174f-aabc-410a-83b7-d56dec4a766a",
   "metadata": {},
   "source": [
    "\\begin{flalign}\n",
    "\\qquad \\text{2.} \\quad z &= 2 + 3j \\text{, } w = 3 - 2j &\n",
    "\\\\\\\\ \n",
    "\\qquad z + w &= (2 + 3) + (3 - 2)j & \\\\\n",
    "\\qquad &= 5 + j & \\\\\n",
    "\\\\\n",
    "\\qquad z \\cdot w &= (2 \\cdot 3) + (3j \\cdot 3) + (2 \\cdot -2j) + (3j \\cdot -2j) \\\\\n",
    "\\qquad &= 6 + 9j - 4j - 6j^{2} & \\\\\n",
    "\\qquad &= 12 + 5j & \\\\\n",
    "\\end{flalign}"
   ]
  },
  {
   "cell_type": "code",
   "execution_count": 3,
   "id": "10163f6c-a8c8-46fd-b42d-3f1b7b37f95b",
   "metadata": {},
   "outputs": [
    {
     "name": "stdout",
     "output_type": "stream",
     "text": [
      "z = (2+3j)\n",
      "w = (3-2j)\n",
      "\n",
      "z + w = (5+1j)\n",
      "z * w = (12+5j)\n"
     ]
    }
   ],
   "source": [
    "z = 2 + 3j\n",
    "w = 3 - 2j\n",
    "\n",
    "print(f\"z = {z}\")\n",
    "print(f\"w = {w}\")\n",
    "print()\n",
    "print(f\"z + w = {z + w}\")\n",
    "print(f\"z * w = {z * w}\")"
   ]
  },
  {
   "cell_type": "markdown",
   "id": "ee1015aa-b6f9-4161-b8b9-f7b99b519a3e",
   "metadata": {},
   "source": [
    "<hr style=\"width:50%;border-top:1px dashed;\"/>"
   ]
  },
  {
   "cell_type": "markdown",
   "id": "6476edf3-8217-4795-8335-f7a9cd2c479c",
   "metadata": {},
   "source": [
    "\\begin{flalign}\n",
    "\\qquad \\text{3.} \\quad z &= e^{j \\cdot \\pi} \\text{, } w = e^{-3j \\cdot \\frac{\\pi}{2}} &\n",
    "\\\\\\\\ \n",
    "\\quad \\text{polar } & \\rightarrow \\text{ rectangular form:} & \\\\\\\n",
    "\\quad z &= \\cos(\\pi) + j \\cdot \\sin(\\pi) & \\\\\n",
    "\\quad  &= -1 & \\\\\\\n",
    "\\quad w &= \\cos(\\frac{-3\\pi}{2}) + j \\cdot \\sin(\\frac{-3\\pi}{2}) & \\\\\n",
    "\\quad   &= \\cos(\\frac{\\pi}{2}) + j \\cdot \\sin(\\frac{\\pi}{2}) & \\\\\n",
    "\\quad  &= j & \\\\\n",
    "\\\\\\\\\n",
    "\\qquad z + w &= (-1 + 0) + (0 + 1)j & \\\\\n",
    "\\qquad &= -1 + j & \\\\\n",
    "\\\\\\\\\n",
    "\\qquad z \\cdot w &= e^{j \\cdot \\pi} \\cdot e^{-3j \\cdot \\frac{\\pi}{2}} & \\\\\n",
    "\\qquad &= e^{j \\cdot (\\pi - \\frac{3\\pi}{2})} & \\\\\n",
    "\\qquad &= e^{j \\cdot (- \\frac{\\pi}{2})} & \\\\\n",
    "\\quad  &= \\cos(-\\frac{\\pi}{2}) + j \\cdot \\sin(-\\frac{\\pi}{2}) & \\\\\n",
    "\\quad  &= \\cos(\\frac{3\\pi}{2}) + j \\cdot \\sin(\\frac{3\\pi}{2}) & \\\\\n",
    "\\quad  &= 0 - j  & \\\\\n",
    "\\quad  &= - j  & \\\\\n",
    "\\end{flalign}"
   ]
  },
  {
   "cell_type": "code",
   "execution_count": 4,
   "id": "6121690d-8d81-495c-8a60-ba34ce25fba8",
   "metadata": {},
   "outputs": [
    {
     "name": "stdout",
     "output_type": "stream",
     "text": [
      "z = (-1+1.2246467991473532e-16j)\n",
      "w = (-1.8369701987210297e-16+1j)\n",
      "\n",
      "z + w = (-1.0000000000000002+1.0000000000000002j)\n",
      "z * w = (6.123233995736765e-17-1j)\n"
     ]
    }
   ],
   "source": [
    "z = 1 * np.exp(1j * np.pi)\n",
    "w = np.exp(1j * (-3*np.pi/2))\n",
    "\n",
    "print(f\"z = {z}\")\n",
    "print(f\"w = {w}\")\n",
    "print()\n",
    "print(f\"z + w = {z + w}\")\n",
    "print(f\"z * w = {z * w}\")"
   ]
  },
  {
   "cell_type": "markdown",
   "id": "5047fb14-c25b-4967-a00c-950f5c29e793",
   "metadata": {},
   "source": [
    "----"
   ]
  },
  {
   "cell_type": "markdown",
   "id": "7cc65c68-60a7-46e8-979f-8b7171629d98",
   "metadata": {},
   "source": [
    "#### Exercise 4.3\n",
    "\n",
    "What are the complex conjugates for the following:"
   ]
  },
  {
   "cell_type": "markdown",
   "id": "1bbb1ab4-da0c-4043-8d12-2cad1c948e71",
   "metadata": {},
   "source": [
    "\\begin{flalign}\n",
    "\\qquad \\text{1.} \\quad z &= 1 + 2j &\n",
    "\\\\\\\\ \n",
    "\\qquad \\overline{z} &= 1 - 2j & \\\\\n",
    "\\end{flalign}"
   ]
  },
  {
   "cell_type": "code",
   "execution_count": 5,
   "id": "d0490e3f-b6e0-4117-883d-b365eb70240f",
   "metadata": {},
   "outputs": [
    {
     "name": "stdout",
     "output_type": "stream",
     "text": [
      "the conjugate of (1+2j) is (1-2j)\n"
     ]
    }
   ],
   "source": [
    "z = 1 + 2j\n",
    "\n",
    "print(f\"the conjugate of {z} is {np.conjugate(z)}\")"
   ]
  },
  {
   "cell_type": "markdown",
   "id": "6d67a05a-35c3-4854-842c-fffe15297bcf",
   "metadata": {},
   "source": [
    "<hr style=\"width:50%;border-top:1px dashed;\"/>"
   ]
  },
  {
   "cell_type": "markdown",
   "id": "946481a4-f6ee-4391-a1fb-2a96525784a1",
   "metadata": {},
   "source": [
    "\\begin{flalign}\n",
    "\\qquad \\text{2.} \\quad z &= 3 &\n",
    "\\\\\\\\ \n",
    "\\qquad \\overline{z} &= 3 & \\\\\n",
    "\\end{flalign}"
   ]
  },
  {
   "cell_type": "code",
   "execution_count": 6,
   "id": "f78fe849-c06e-4176-b7e5-66caaee1ccd5",
   "metadata": {},
   "outputs": [
    {
     "name": "stdout",
     "output_type": "stream",
     "text": [
      "the conjugate of 3 is 3\n"
     ]
    }
   ],
   "source": [
    "z = 3\n",
    "\n",
    "print(f\"the conjugate of {z} is {np.conjugate(z)}\")"
   ]
  },
  {
   "cell_type": "markdown",
   "id": "a66b4290-84fb-42c9-878d-e2e309b1e035",
   "metadata": {},
   "source": [
    "<hr style=\"width:50%;border-top:1px dashed;\"/>"
   ]
  },
  {
   "cell_type": "markdown",
   "id": "16675390-6548-4275-85bb-60fbdcbf5ad9",
   "metadata": {},
   "source": [
    "\\begin{flalign}\n",
    "\\qquad \\text{3.} \\quad z &= 3 e^{j \\cdot \\pi} &\n",
    "\\\\\\\\ \n",
    "\\quad \\text{polar } & \\rightarrow \\text{ rectangular form:} & \\\\\\\n",
    "\\qquad z &= 3 \\cos(\\pi) + j \\cdot 3 \\sin(\\pi) & \\\\\n",
    "\\qquad   &= 3 (-1) + j \\cdot 3 (0) & \\\\\n",
    "\\qquad   &= -3 & \\\\\n",
    "\\\\\n",
    "\\qquad \\overline{z} &= -3 & \\\\\n",
    "\\end{flalign}"
   ]
  },
  {
   "cell_type": "code",
   "execution_count": 7,
   "id": "3691bd25-6352-4d04-91df-00751e8ff945",
   "metadata": {},
   "outputs": [
    {
     "name": "stdout",
     "output_type": "stream",
     "text": [
      "z (rectangular) = (-3+3.6739403974420594e-16j)\n",
      "the conjugate of (-3+3.6739403974420594e-16j) is (-3-3.6739403974420594e-16j)\n"
     ]
    }
   ],
   "source": [
    "z = 3 * np.exp(1j*np.pi)\n",
    "\n",
    "print(f\"z (rectangular) = {z}\")\n",
    "print(f\"the conjugate of {z} is {np.conjugate(z)}\")"
   ]
  },
  {
   "cell_type": "markdown",
   "id": "4139cd03-5bce-4f2d-9a2a-2d92cb10042c",
   "metadata": {},
   "source": [
    "<hr style=\"width:50%;border-top:1px dashed;\"/>"
   ]
  },
  {
   "cell_type": "markdown",
   "id": "e1df31e5-e38f-4c9f-a3da-fa32c1ce6d89",
   "metadata": {},
   "source": [
    "\\begin{flalign}\n",
    "\\qquad \\text{4.} \\quad z &= 3 e^{j \\cdot \\frac{\\pi}{2}} &\n",
    "\\\\\\\\ \n",
    "\\quad \\text{polar } & \\rightarrow \\text{ rectangular form:} & \\\\\\\n",
    "\\qquad z &= 3 \\cos(\\frac{\\pi}{2}) + j \\cdot 3 \\sin(\\frac{\\pi}{2}) & \\\\\n",
    "\\qquad   &= 3 (0) + j \\cdot 3 (1) & \\\\\n",
    "\\qquad   &= 3j & \\\\\n",
    "\\\\\n",
    "\\qquad \\overline{z} &= -3j & \\\\\n",
    "\\end{flalign}"
   ]
  },
  {
   "cell_type": "code",
   "execution_count": 8,
   "id": "4df9976c-d31d-40e0-b4a1-12a2aae189c3",
   "metadata": {},
   "outputs": [
    {
     "name": "stdout",
     "output_type": "stream",
     "text": [
      "z (rectangular) = (1.8369701987210297e-16+3j)\n",
      "the conjugate of (1.8369701987210297e-16+3j) is (1.8369701987210297e-16-3j)\n"
     ]
    }
   ],
   "source": [
    "z = 3 * np.exp(1j * (np.pi/2))\n",
    "\n",
    "print(f\"z (rectangular) = {z}\")\n",
    "print(f\"the conjugate of {z} is {np.conjugate(z)}\")"
   ]
  },
  {
   "cell_type": "markdown",
   "id": "5919e466-d0c1-4371-b522-14794e9a9272",
   "metadata": {},
   "source": [
    "----"
   ]
  },
  {
   "cell_type": "markdown",
   "id": "40b4c754-4277-4dcc-a519-d162775e8b49",
   "metadata": {},
   "source": [
    "#### Exercise 4.4\n",
    "\n",
    "\\begin{flalign}\n",
    "\\qquad \\text{Let } \\quad z &= e^{j \\cdot \\frac{\\pi}{3}} & \\\\\n",
    "\\end{flalign}\n",
    "\n",
    "Consider the sequence generated by raising $z$ to successive powers such as: $z^0, z^1, z^2, \\ldots , z^n$"
   ]
  },
  {
   "cell_type": "markdown",
   "id": "d89c9b9d-f685-4f40-a135-d2d5d1682b17",
   "metadata": {},
   "source": [
    "##### 1. What is the smallest power $n > 1$ such that $z^n = z$?\n",
    "\n",
    "* We know that for complex number $z = e^{j \\cdot \\theta}$, $\\theta$ is the angle going counter-clockwise from the x-axis.\n",
    "* $z^n = e^{j \\cdot \\frac{n \\cdot \\pi}{3}}$\n",
    "* We also know that for $z^n = z$, $z^n$ has an angle $\\theta = \\frac{\\pi}{3}$.\n",
    "* Therefore, the smallest power $n > 1$ such that $\\theta = \\frac{\\pi}{3}$ must be $n = 7$ (i.e., $\\frac{\\pi}{3} + 2\\pi = \\frac{7 \\cdot \\pi}{3}$)"
   ]
  },
  {
   "cell_type": "code",
   "execution_count": 9,
   "id": "efaac088-0907-45d0-b92f-6c087e3aee70",
   "metadata": {},
   "outputs": [
    {
     "name": "stdout",
     "output_type": "stream",
     "text": [
      "z = (0.5000000000000001+0.8660254037844386j)\n",
      "z^7 = (0.5000000000000009+0.8660254037844383j)\n"
     ]
    }
   ],
   "source": [
    "n = 7\n",
    "z = 1 * np.exp(1j * np.pi / 3)\n",
    "\n",
    "print(f\"z = {z}\")\n",
    "print(f\"z^{n} = {np.power(z, n)}\")"
   ]
  },
  {
   "cell_type": "markdown",
   "id": "2051664b-2c51-4993-896a-e94f7620376b",
   "metadata": {},
   "source": [
    "<hr style=\"width:50%;border-top:1px dashed;\"/>"
   ]
  },
  {
   "cell_type": "markdown",
   "id": "99e8ca63-d905-45bc-9497-df2a886d2e24",
   "metadata": {},
   "source": [
    "##### 2. If $f_{s} = 100$, what frequency $f > 0$ will yield $\\cos(2\\pi \\cdot f \\cdot \\frac{n}{f_s}) = \\text{RE}[z^n]$ for all $n$?\n",
    "\n",
    "* This will only happen when $\\theta = 2\\pi \\cdot f \\cdot \\frac{n}{f_s}$ is an integer multiple of $2\\pi$.\n",
    "* That will only happen when $f$ is an integer multiple of $f_s$, so values like 200, 300, etc., will work.\n",
    "* But that means $\\text{RE}[z^n] = 1 \\ \\forall \\ n$"
   ]
  },
  {
   "cell_type": "code",
   "execution_count": 10,
   "id": "690176e5-6b3f-4450-9d45-6c549ffcaaa1",
   "metadata": {},
   "outputs": [
    {
     "name": "stdout",
     "output_type": "stream",
     "text": [
      "1.0\n",
      "1.0\n"
     ]
    }
   ],
   "source": [
    "f_s = 100\n",
    "f = 300\n",
    "n = 3\n",
    "\n",
    "theta = 2 * np.pi * f * n/f_s\n",
    "z = 1 * np.exp(1j * theta)\n",
    "z_power = np.power(z, n)\n",
    "\n",
    "print(z_power.real)\n",
    "print(np.cos(theta))"
   ]
  },
  {
   "cell_type": "code",
   "execution_count": null,
   "id": "06d5ad32-f9bc-4634-9270-9d4634a73ea2",
   "metadata": {},
   "outputs": [],
   "source": []
  }
 ],
 "metadata": {
  "kernelspec": {
   "display_name": "Python 3 (ipykernel)",
   "language": "python",
   "name": "python3"
  },
  "language_info": {
   "codemirror_mode": {
    "name": "ipython",
    "version": 3
   },
   "file_extension": ".py",
   "mimetype": "text/x-python",
   "name": "python",
   "nbconvert_exporter": "python",
   "pygments_lexer": "ipython3",
   "version": "3.12.7"
  }
 },
 "nbformat": 4,
 "nbformat_minor": 5
}
